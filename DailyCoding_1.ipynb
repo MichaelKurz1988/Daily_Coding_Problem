{
 "cells": [
  {
   "cell_type": "code",
   "execution_count": 29,
   "metadata": {},
   "outputs": [],
   "source": [
    "def CheckSum(numList, k):\n",
    "    import numpy as np\n",
    "    # Add the vector to its own transpose. Since dimensions do not match numpy performs \n",
    "    # block wise addition by adding each element in the first vector to the entire transposed vector.\n",
    "    # Result is a matrix [a,b,c] + [[a],[b],[c]] = [[a+a, a+b, a+c], [b+a,b+b,b+c], [c+a,c+b,c+c]]\n",
    "    if k in np.add(np.matrix(numList), np.matrix(numList).transpose()):\n",
    "        return(True)\n",
    "    else:\n",
    "        return(False)\n",
    "    "
   ]
  },
  {
   "cell_type": "code",
   "execution_count": 67,
   "metadata": {},
   "outputs": [
    {
     "data": {
      "text/plain": [
       "True"
      ]
     },
     "execution_count": 67,
     "metadata": {},
     "output_type": "execute_result"
    }
   ],
   "source": [
    "CheckSum([10, 15, 3, 7]  , 17)"
   ]
  },
  {
   "cell_type": "code",
   "execution_count": null,
   "metadata": {},
   "outputs": [],
   "source": []
  }
 ],
 "metadata": {
  "kernelspec": {
   "display_name": "Python 3",
   "language": "python",
   "name": "python3"
  },
  "language_info": {
   "codemirror_mode": {
    "name": "ipython",
    "version": 3
   },
   "file_extension": ".py",
   "mimetype": "text/x-python",
   "name": "python",
   "nbconvert_exporter": "python",
   "pygments_lexer": "ipython3",
   "version": "3.7.4"
  }
 },
 "nbformat": 4,
 "nbformat_minor": 2
}
